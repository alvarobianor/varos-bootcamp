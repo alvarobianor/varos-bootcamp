{
 "cells": [
  {
   "cell_type": "code",
   "execution_count": 1,
   "id": "5cea3d66",
   "metadata": {},
   "outputs": [
    {
     "name": "stdout",
     "output_type": "stream",
     "text": [
      "Requirement already satisfied: selenium in /home/alvarobianor/anaconda3/lib/python3.9/site-packages (4.8.3)\n",
      "Requirement already satisfied: urllib3[socks]~=1.26 in /home/alvarobianor/anaconda3/lib/python3.9/site-packages (from selenium) (1.26.7)\n",
      "Requirement already satisfied: trio-websocket~=0.9 in /home/alvarobianor/anaconda3/lib/python3.9/site-packages (from selenium) (0.10.2)\n",
      "Requirement already satisfied: certifi>=2021.10.8 in /home/alvarobianor/anaconda3/lib/python3.9/site-packages (from selenium) (2021.10.8)\n",
      "Requirement already satisfied: trio~=0.17 in /home/alvarobianor/anaconda3/lib/python3.9/site-packages (from selenium) (0.22.0)\n",
      "Requirement already satisfied: exceptiongroup>=1.0.0rc9 in /home/alvarobianor/anaconda3/lib/python3.9/site-packages (from trio~=0.17->selenium) (1.1.1)\n",
      "Requirement already satisfied: sniffio in /home/alvarobianor/anaconda3/lib/python3.9/site-packages (from trio~=0.17->selenium) (1.2.0)\n",
      "Requirement already satisfied: outcome in /home/alvarobianor/anaconda3/lib/python3.9/site-packages (from trio~=0.17->selenium) (1.2.0)\n",
      "Requirement already satisfied: attrs>=19.2.0 in /home/alvarobianor/anaconda3/lib/python3.9/site-packages (from trio~=0.17->selenium) (21.2.0)\n",
      "Requirement already satisfied: async-generator>=1.9 in /home/alvarobianor/anaconda3/lib/python3.9/site-packages (from trio~=0.17->selenium) (1.10)\n",
      "Requirement already satisfied: idna in /home/alvarobianor/anaconda3/lib/python3.9/site-packages (from trio~=0.17->selenium) (3.2)\n",
      "Requirement already satisfied: sortedcontainers in /home/alvarobianor/anaconda3/lib/python3.9/site-packages (from trio~=0.17->selenium) (2.4.0)\n",
      "Requirement already satisfied: wsproto>=0.14 in /home/alvarobianor/anaconda3/lib/python3.9/site-packages (from trio-websocket~=0.9->selenium) (1.2.0)\n",
      "Requirement already satisfied: PySocks!=1.5.7,<2.0,>=1.5.6 in /home/alvarobianor/anaconda3/lib/python3.9/site-packages (from urllib3[socks]~=1.26->selenium) (1.7.1)\n",
      "Requirement already satisfied: h11<1,>=0.9.0 in /home/alvarobianor/anaconda3/lib/python3.9/site-packages (from wsproto>=0.14->trio-websocket~=0.9->selenium) (0.14.0)\n",
      "Requirement already satisfied: webdriver_manager in /home/alvarobianor/anaconda3/lib/python3.9/site-packages (3.8.5)\n",
      "Requirement already satisfied: tqdm in /home/alvarobianor/anaconda3/lib/python3.9/site-packages (from webdriver_manager) (4.62.3)\n",
      "Requirement already satisfied: requests in /home/alvarobianor/anaconda3/lib/python3.9/site-packages (from webdriver_manager) (2.26.0)\n",
      "Requirement already satisfied: python-dotenv in /home/alvarobianor/anaconda3/lib/python3.9/site-packages (from webdriver_manager) (1.0.0)\n",
      "Requirement already satisfied: packaging in /home/alvarobianor/anaconda3/lib/python3.9/site-packages (from webdriver_manager) (21.0)\n",
      "Requirement already satisfied: pyparsing>=2.0.2 in /home/alvarobianor/anaconda3/lib/python3.9/site-packages (from packaging->webdriver_manager) (3.0.4)\n",
      "Requirement already satisfied: idna<4,>=2.5 in /home/alvarobianor/anaconda3/lib/python3.9/site-packages (from requests->webdriver_manager) (3.2)\n",
      "Requirement already satisfied: charset-normalizer~=2.0.0 in /home/alvarobianor/anaconda3/lib/python3.9/site-packages (from requests->webdriver_manager) (2.0.4)\n",
      "Requirement already satisfied: certifi>=2017.4.17 in /home/alvarobianor/anaconda3/lib/python3.9/site-packages (from requests->webdriver_manager) (2021.10.8)\n",
      "Requirement already satisfied: urllib3<1.27,>=1.21.1 in /home/alvarobianor/anaconda3/lib/python3.9/site-packages (from requests->webdriver_manager) (1.26.7)\n"
     ]
    }
   ],
   "source": [
    "!pip install selenium\n",
    "!pip install webdriver_manager"
   ]
  },
  {
   "cell_type": "code",
   "execution_count": null,
   "id": "e2d9a5b8",
   "metadata": {},
   "outputs": [],
   "source": [
    "from selenium import webdriver\n",
    "from selenium.webdriver.chrome.service import Service\n",
    "from webdriver_manager.chrome import ChromeDriverManager\n",
    "import time\n",
    "import pandas as pd\n",
    "\n",
    "driver = webdriver.Chrome(service = Service(ChromeDriverManager().install()))\n",
    "\n",
    "driver.get('https://www.etf.com/etfanalytics/etf-finder')\n",
    "\n",
    "time.sleep(10)\n"
   ]
  },
  {
   "cell_type": "code",
   "execution_count": null,
   "id": "bb25328b",
   "metadata": {},
   "outputs": [],
   "source": [
    "botao_100 = driver.find_element(\"xpath\",\n",
    "                               '/html/body/div[5]/section/div/div[3]/section/div/div/div/div/div[2]/section[2]/div[2]/section[2]/div[1]/div/div[4]/button')\n",
    "\n",
    "\n",
    "driver.execute_script(\"arguments[0].click();\", botao_100)\n",
    "\n",
    "# quando o .click nn funcionar -> driver.execute_script(\"arguments[0].click();\", botao_100)\n",
    "\n"
   ]
  },
  {
   "cell_type": "code",
   "execution_count": null,
   "id": "6404c975",
   "metadata": {},
   "outputs": [],
   "source": [
    "numero_paginas = driver.find_element(\"xpath\", '/html/body/div[5]/section/div/div[3]/section/div/div/div/div/div[2]/section[2]/div[2]/section[2]/div[2]/div/label[2]')\n",
    "\n",
    "numero_paginas = int(numero_paginas.text.replace(\"of \", \"\"))\n",
    "\n"
   ]
  },
  {
   "cell_type": "code",
   "execution_count": null,
   "id": "0eac4bc7",
   "metadata": {},
   "outputs": [],
   "source": [
    "lista_tabela_por_pagina = []\n",
    "\n",
    "elemento = driver.find_element(\"xpath\", '//*[@id=\"finderTable\"]')\n",
    "\n",
    "botao_avancar_pagina = driver.find_element(\"xpath\", '//*[@id=\"nextPage\"]')\n",
    "\n",
    "\n",
    "for pagina in range(1, numero_paginas + 1):\n",
    "    \n",
    "    html_tabela = elemento.get_attribute('outerHTML')\n",
    "    \n",
    "    tabela = pd.read_html(str(html_tabela))[0]\n",
    "    \n",
    "    lista_tabela_por_pagina.append(tabela)\n",
    "        \n",
    "    driver.execute_script(\"arguments[0].click();\", botao_avancar_pagina)\n",
    "    \n",
    "    \n",
    "tabela_cadastro_etfs = pd.concat(lista_tabela_por_pagina)\n",
    "\n",
    "tabela_cadastro_etfs"
   ]
  },
  {
   "cell_type": "code",
   "execution_count": null,
   "id": "163be6c2",
   "metadata": {},
   "outputs": [],
   "source": [
    "formulario_de_voltar_pagina = driver.find_element(\"xpath\", '//*[@id=\"goToPage\"]')\n",
    "\n",
    "formulario_de_voltar_pagina.clear()\n",
    "formulario_de_voltar_pagina.send_keys(\"1\")\n",
    "formulario_de_voltar_pagina.send_keys(u'\\ue007')"
   ]
  },
  {
   "cell_type": "code",
   "execution_count": null,
   "id": "1294c3b0",
   "metadata": {},
   "outputs": [],
   "source": [
    "tab_performance = driver.find_element(\"xpath\", \"/html/body/div[5]/section/div/div[3]/section/div/div/div/div/div[2]/section[2]/div[2]/ul/li[2]/span\")\n",
    "\n",
    "\n",
    "tab_performance.click()\n",
    "\n",
    "\n",
    "lista_tabela_por_pagina = []\n",
    "\n",
    "elemento = driver.find_element(\"xpath\", '//*[@id=\"finderTable\"]')\n",
    "\n",
    "\n",
    "\n",
    "for pagina in range(1, numero_paginas + 1):\n",
    "    \n",
    "    html_tabela = elemento.get_attribute('outerHTML')\n",
    "    \n",
    "    tabela = pd.read_html(str(html_tabela))[0]\n",
    "    \n",
    "    lista_tabela_por_pagina.append(tabela)\n",
    "    \n",
    "    driver.execute_script(\"arguments[0].click();\", botao_avancar_pagina)\n",
    "    \n",
    "    \n",
    "tabela_performance_etfs = pd.concat(lista_tabela_por_pagina)\n",
    "\n",
    "tabela_performance_etfs\n"
   ]
  },
  {
   "cell_type": "code",
   "execution_count": null,
   "id": "8d252633",
   "metadata": {},
   "outputs": [],
   "source": [
    "driver.quit()"
   ]
  },
  {
   "cell_type": "code",
   "execution_count": null,
   "id": "ae763214",
   "metadata": {},
   "outputs": [],
   "source": [
    "tabela_performance_etfs = tabela_performance_etfs.set_index(\"Ticker\")\n",
    "tabela_performance_etfs = tabela_performance_etfs[['1 Year', '3 Years', '5 Years']]\n",
    "tabela_cadastro_etfs = tabela_cadastro_etfs.set_index(\"Ticker\")\n",
    "\n",
    "base_de_dados_final = tabela_cadastro_etfs.join(tabela_performance_etfs, how = 'inner')\n",
    "\n",
    "base_de_dados_final.to_csv('out.csv', encoding='utf-8')"
   ]
  },
  {
   "cell_type": "code",
   "execution_count": null,
   "id": "24364a69",
   "metadata": {},
   "outputs": [],
   "source": []
  }
 ],
 "metadata": {
  "kernelspec": {
   "display_name": "Python 3 (ipykernel)",
   "language": "python",
   "name": "python3"
  },
  "language_info": {
   "codemirror_mode": {
    "name": "ipython",
    "version": 3
   },
   "file_extension": ".py",
   "mimetype": "text/x-python",
   "name": "python",
   "nbconvert_exporter": "python",
   "pygments_lexer": "ipython3",
   "version": "3.9.7"
  }
 },
 "nbformat": 4,
 "nbformat_minor": 5
}
