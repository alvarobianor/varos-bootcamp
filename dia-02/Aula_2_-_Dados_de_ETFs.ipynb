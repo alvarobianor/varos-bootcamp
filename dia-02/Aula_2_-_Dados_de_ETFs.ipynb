{
 "cells": [
  {
   "cell_type": "markdown",
   "id": "9a19c985",
   "metadata": {},
   "source": [
    "# Projeto 2 - Como pegar dados de um site com Python? - Pegando dados de ETFs do mundo inteiro.\n",
    "\n",
    "\n",
    "### Desafio:\n",
    "\n",
    "* Construir um código que vá no site etf.com e busque dados de todos os etfs do mercado americano e, consequentemente, do mundo. Rentabilidades, patrimônio, gestora, taxa...   \n",
    "* Lembrar de sempre trazer outros tipos de cenários onde a pessoa precisa pegar dados de sites etc.\n",
    "\n",
    "\n",
    "### Passo a passo:\n",
    "\n",
    "   **Passo 1** - Definir um navegador que você irá utilizar para navegar com o Python.\n",
    "\n",
    "   **Passo 2** - Importar os módulos e bibliotecas.\n",
    "   \n",
    "   **Passo 3** - Entender como funcionam requisições na internet.\n",
    "   \n",
    "   **Passo 4** - Conhecer e mapear o processo de coleta de dados no site do ETF.com. \n",
    "   \n",
    "   **Passo 5** - Achar todos os elementos necessários dentro do HTML do site.\n",
    "   \n",
    "   **Passo 6** - Ler a tabela de dados.\n",
    "   \n",
    "   **Passo 7** - Construir a tabela final."
   ]
  },
  {
   "cell_type": "markdown",
   "id": "4caa47bc",
   "metadata": {},
   "source": [
    "# Passo 1: Escolher o navegador.\n",
    "\n",
    "No nosso caso, utilizaremos o Google Chrome. "
   ]
  },
  {
   "cell_type": "markdown",
   "id": "7ca16e9c",
   "metadata": {},
   "source": [
    "# Passo 2: Importar as bibliotecas."
   ]
  },
  {
   "cell_type": "code",
   "execution_count": 1,
   "id": "bc940c73",
   "metadata": {},
   "outputs": [],
   "source": [
    "from selenium import webdriver\n",
    "from selenium.webdriver.chrome.service import Service\n",
    "from webdriver_manager.chrome import ChromeDriverManager\n",
    "import time\n",
    "import pandas as pd"
   ]
  },
  {
   "cell_type": "markdown",
   "id": "f4e8e17f",
   "metadata": {},
   "source": [
    "# Passo 3: Entender como funcionam requisições na internet."
   ]
  },
  {
   "cell_type": "code",
   "execution_count": 2,
   "id": "9c20a1d0",
   "metadata": {},
   "outputs": [],
   "source": [
    "driver = webdriver.Chrome(service = Service(ChromeDriverManager().install()))\n",
    "\n",
    "driver.get('https://www.etf.com/etfanalytics/etf-finder')"
   ]
  },
  {
   "cell_type": "markdown",
   "id": "6edca4b6",
   "metadata": {},
   "source": [
    "# Passo 4: Conhecer e mapear o processo de coleta de dados no site do ETF.com."
   ]
  },
  {
   "cell_type": "markdown",
   "id": "b527b3a8",
   "metadata": {},
   "source": [
    "# Passo 5.1: Achar todos os elementos necessários dentro do HTML do site - Expandindo a tabela para 100 itens."
   ]
  },
  {
   "cell_type": "code",
   "execution_count": 3,
   "id": "a90728fb",
   "metadata": {},
   "outputs": [],
   "source": [
    "time.sleep(5)\n",
    "\n",
    "botao_100 = driver.find_element(\"xpath\",\n",
    "                               '/html/body/div[5]/section/div/div[3]/section/div/div/div/div/div[2]/section[2]/div[2]/section[2]/div[1]/div/div[4]/button/label/span')\n",
    "\n",
    "botao_100.click()\n",
    "\n",
    "#driver.execute_script(\"arguments[0].click();\", botao_100)\n"
   ]
  },
  {
   "cell_type": "markdown",
   "id": "5049291d",
   "metadata": {},
   "source": [
    "# Passo 5.2: Achar todos os elementos necessários dentro do HTML do site - Pegando o número de páginas da tabela."
   ]
  },
  {
   "cell_type": "code",
   "execution_count": 4,
   "id": "168af3d8",
   "metadata": {},
   "outputs": [
    {
     "data": {
      "text/plain": [
       "32"
      ]
     },
     "execution_count": 4,
     "metadata": {},
     "output_type": "execute_result"
    }
   ],
   "source": [
    "numero_paginas = driver.find_element(\"xpath\", '//*[@id=\"totalPages\"]')\n",
    "\n",
    "numero_paginas = numero_paginas.text.replace(\"of \", \"\")\n",
    "\n",
    "numero_paginas = int(numero_paginas)\n",
    "\n",
    "numero_paginas"
   ]
  },
  {
   "cell_type": "markdown",
   "id": "57042704",
   "metadata": {},
   "source": [
    "# Passo 6.1: Lendo a tabela de dados - Lendo a tabela de dados básicos."
   ]
  },
  {
   "cell_type": "code",
   "execution_count": 5,
   "id": "567644f4",
   "metadata": {},
   "outputs": [
    {
     "data": {
      "text/html": [
       "<div>\n",
       "<style scoped>\n",
       "    .dataframe tbody tr th:only-of-type {\n",
       "        vertical-align: middle;\n",
       "    }\n",
       "\n",
       "    .dataframe tbody tr th {\n",
       "        vertical-align: top;\n",
       "    }\n",
       "\n",
       "    .dataframe thead th {\n",
       "        text-align: right;\n",
       "    }\n",
       "</style>\n",
       "<table border=\"1\" class=\"dataframe\">\n",
       "  <thead>\n",
       "    <tr style=\"text-align: right;\">\n",
       "      <th></th>\n",
       "      <th>Ticker</th>\n",
       "      <th>Name</th>\n",
       "      <th>Segment</th>\n",
       "      <th>Issuer</th>\n",
       "      <th>Expense Ratio</th>\n",
       "      <th>AUM</th>\n",
       "    </tr>\n",
       "  </thead>\n",
       "  <tbody>\n",
       "    <tr>\n",
       "      <th>0</th>\n",
       "      <td>SPY</td>\n",
       "      <td>SPDR S&amp;P 500 ETF Trust</td>\n",
       "      <td>Equity: U.S. - Large Cap</td>\n",
       "      <td>State Street Global Advisors</td>\n",
       "      <td>0.09%</td>\n",
       "      <td>$370.35B</td>\n",
       "    </tr>\n",
       "    <tr>\n",
       "      <th>1</th>\n",
       "      <td>IVV</td>\n",
       "      <td>iShares Core S&amp;P 500 ETF</td>\n",
       "      <td>Equity: U.S. - Large Cap</td>\n",
       "      <td>Blackrock</td>\n",
       "      <td>0.03%</td>\n",
       "      <td>$304.93B</td>\n",
       "    </tr>\n",
       "    <tr>\n",
       "      <th>2</th>\n",
       "      <td>VOO</td>\n",
       "      <td>Vanguard S&amp;P 500 ETF</td>\n",
       "      <td>Equity: U.S. - Large Cap</td>\n",
       "      <td>Vanguard</td>\n",
       "      <td>0.03%</td>\n",
       "      <td>$285.54B</td>\n",
       "    </tr>\n",
       "    <tr>\n",
       "      <th>3</th>\n",
       "      <td>VTI</td>\n",
       "      <td>Vanguard Total Stock Market ETF</td>\n",
       "      <td>Equity: U.S. - Total Market</td>\n",
       "      <td>Vanguard</td>\n",
       "      <td>0.03%</td>\n",
       "      <td>$280.86B</td>\n",
       "    </tr>\n",
       "    <tr>\n",
       "      <th>4</th>\n",
       "      <td>QQQ</td>\n",
       "      <td>Invesco QQQ Trust</td>\n",
       "      <td>Equity: U.S. - Large Cap</td>\n",
       "      <td>Invesco</td>\n",
       "      <td>0.20%</td>\n",
       "      <td>$172.61B</td>\n",
       "    </tr>\n",
       "    <tr>\n",
       "      <th>...</th>\n",
       "      <td>...</td>\n",
       "      <td>...</td>\n",
       "      <td>...</td>\n",
       "      <td>...</td>\n",
       "      <td>...</td>\n",
       "      <td>...</td>\n",
       "    </tr>\n",
       "    <tr>\n",
       "      <th>95</th>\n",
       "      <td>BIV</td>\n",
       "      <td>Vanguard Intermediate-Term Bond ETF</td>\n",
       "      <td>Fixed Income: U.S. - Broad Market, Broad-based...</td>\n",
       "      <td>Vanguard</td>\n",
       "      <td>0.04%</td>\n",
       "      <td>$14.14B</td>\n",
       "    </tr>\n",
       "    <tr>\n",
       "      <th>96</th>\n",
       "      <td>VXF</td>\n",
       "      <td>Vanguard Extended Market ETF</td>\n",
       "      <td>Equity: U.S. - Extended Market</td>\n",
       "      <td>Vanguard</td>\n",
       "      <td>0.06%</td>\n",
       "      <td>$13.83B</td>\n",
       "    </tr>\n",
       "    <tr>\n",
       "      <th>97</th>\n",
       "      <td>HYG</td>\n",
       "      <td>iShares iBoxx USD High Yield Corporate Bond ETF</td>\n",
       "      <td>Fixed Income: U.S. - Corporate, Broad-based Hi...</td>\n",
       "      <td>Blackrock</td>\n",
       "      <td>0.48%</td>\n",
       "      <td>$13.76B</td>\n",
       "    </tr>\n",
       "    <tr>\n",
       "      <th>98</th>\n",
       "      <td>XLI</td>\n",
       "      <td>Industrial Select Sector SPDR Fund</td>\n",
       "      <td>Equity: U.S. Industrials</td>\n",
       "      <td>State Street Global Advisors</td>\n",
       "      <td>0.10%</td>\n",
       "      <td>$13.64B</td>\n",
       "    </tr>\n",
       "    <tr>\n",
       "      <th>99</th>\n",
       "      <td>VGIT</td>\n",
       "      <td>Vanguard Intermediate-Term Treasury Index ETF</td>\n",
       "      <td>Fixed Income: U.S. - Government, Treasury Inve...</td>\n",
       "      <td>Vanguard</td>\n",
       "      <td>0.04%</td>\n",
       "      <td>$13.53B</td>\n",
       "    </tr>\n",
       "  </tbody>\n",
       "</table>\n",
       "<p>100 rows × 6 columns</p>\n",
       "</div>"
      ],
      "text/plain": [
       "   Ticker                                             Name  \\\n",
       "0     SPY                           SPDR S&P 500 ETF Trust   \n",
       "1     IVV                         iShares Core S&P 500 ETF   \n",
       "2     VOO                             Vanguard S&P 500 ETF   \n",
       "3     VTI                  Vanguard Total Stock Market ETF   \n",
       "4     QQQ                                Invesco QQQ Trust   \n",
       "..    ...                                              ...   \n",
       "95    BIV              Vanguard Intermediate-Term Bond ETF   \n",
       "96    VXF                     Vanguard Extended Market ETF   \n",
       "97    HYG  iShares iBoxx USD High Yield Corporate Bond ETF   \n",
       "98    XLI               Industrial Select Sector SPDR Fund   \n",
       "99   VGIT    Vanguard Intermediate-Term Treasury Index ETF   \n",
       "\n",
       "                                              Segment  \\\n",
       "0                            Equity: U.S. - Large Cap   \n",
       "1                            Equity: U.S. - Large Cap   \n",
       "2                            Equity: U.S. - Large Cap   \n",
       "3                         Equity: U.S. - Total Market   \n",
       "4                            Equity: U.S. - Large Cap   \n",
       "..                                                ...   \n",
       "95  Fixed Income: U.S. - Broad Market, Broad-based...   \n",
       "96                     Equity: U.S. - Extended Market   \n",
       "97  Fixed Income: U.S. - Corporate, Broad-based Hi...   \n",
       "98                           Equity: U.S. Industrials   \n",
       "99  Fixed Income: U.S. - Government, Treasury Inve...   \n",
       "\n",
       "                          Issuer Expense Ratio       AUM  \n",
       "0   State Street Global Advisors         0.09%  $370.35B  \n",
       "1                      Blackrock         0.03%  $304.93B  \n",
       "2                       Vanguard         0.03%  $285.54B  \n",
       "3                       Vanguard         0.03%  $280.86B  \n",
       "4                        Invesco         0.20%  $172.61B  \n",
       "..                           ...           ...       ...  \n",
       "95                      Vanguard         0.04%   $14.14B  \n",
       "96                      Vanguard         0.06%   $13.83B  \n",
       "97                     Blackrock         0.48%   $13.76B  \n",
       "98  State Street Global Advisors         0.10%   $13.64B  \n",
       "99                      Vanguard         0.04%   $13.53B  \n",
       "\n",
       "[100 rows x 6 columns]"
      ]
     },
     "execution_count": 5,
     "metadata": {},
     "output_type": "execute_result"
    }
   ],
   "source": [
    "elemento = driver.find_element(\"xpath\", '//*[@id=\"finderTable\"]')\n",
    "\n",
    "html_tabela = elemento.get_attribute('outerHTML')\n",
    "\n",
    "tabela = pd.read_html(str(html_tabela))[0]\n",
    "\n",
    "tabela"
   ]
  },
  {
   "cell_type": "code",
   "execution_count": 6,
   "id": "040970a1",
   "metadata": {},
   "outputs": [
    {
     "ename": "ElementClickInterceptedException",
     "evalue": "Message: element click intercepted: Element <span id=\"nextPage\" class=\"nextPageActive pull-right pointer\" type=\"button\"></span> is not clickable at point (925, 539). Other element would receive the click: <p>...</p>\n  (Session info: chrome=111.0.5563.64)\nStacktrace:\n#0 0x55db24859243 <unknown>\n#1 0x55db2461d7a6 <unknown>\n#2 0x55db2466148f <unknown>\n#3 0x55db2465f3e6 <unknown>\n#4 0x55db2465cc9e <unknown>\n#5 0x55db2465bd18 <unknown>\n#6 0x55db2464fa65 <unknown>\n#7 0x55db2467b082 <unknown>\n#8 0x55db2464f2e3 <unknown>\n#9 0x55db2467b24e <unknown>\n#10 0x55db24693932 <unknown>\n#11 0x55db2467ae53 <unknown>\n#12 0x55db2464d9ea <unknown>\n#13 0x55db2464eb2e <unknown>\n#14 0x55db248add5e <unknown>\n#15 0x55db248b1a80 <unknown>\n#16 0x55db248938b0 <unknown>\n#17 0x55db248b2b63 <unknown>\n#18 0x55db24884f75 <unknown>\n#19 0x55db248d5998 <unknown>\n#20 0x55db248d5b27 <unknown>\n#21 0x55db248f0c23 <unknown>\n#22 0x7fcceb294b43 <unknown>\n",
     "output_type": "error",
     "traceback": [
      "\u001b[0;31m---------------------------------------------------------------------------\u001b[0m",
      "\u001b[0;31mElementClickInterceptedException\u001b[0m          Traceback (most recent call last)",
      "\u001b[0;32m/tmp/ipykernel_18863/1805025392.py\u001b[0m in \u001b[0;36m<module>\u001b[0;34m\u001b[0m\n\u001b[1;32m     13\u001b[0m     \u001b[0mbotao_avancar_pagina\u001b[0m \u001b[0;34m=\u001b[0m \u001b[0mdriver\u001b[0m\u001b[0;34m.\u001b[0m\u001b[0mfind_element\u001b[0m\u001b[0;34m(\u001b[0m\u001b[0;34m\"xpath\"\u001b[0m\u001b[0;34m,\u001b[0m \u001b[0;34m'//*[@id=\"nextPage\"]'\u001b[0m\u001b[0;34m)\u001b[0m\u001b[0;34m\u001b[0m\u001b[0;34m\u001b[0m\u001b[0m\n\u001b[1;32m     14\u001b[0m \u001b[0;34m\u001b[0m\u001b[0m\n\u001b[0;32m---> 15\u001b[0;31m     \u001b[0mbotao_avancar_pagina\u001b[0m\u001b[0;34m.\u001b[0m\u001b[0mclick\u001b[0m\u001b[0;34m(\u001b[0m\u001b[0;34m)\u001b[0m\u001b[0;34m\u001b[0m\u001b[0;34m\u001b[0m\u001b[0m\n\u001b[0m\u001b[1;32m     16\u001b[0m \u001b[0;34m\u001b[0m\u001b[0m\n\u001b[1;32m     17\u001b[0m \u001b[0;34m\u001b[0m\u001b[0m\n",
      "\u001b[0;32m~/anaconda3/lib/python3.9/site-packages/selenium/webdriver/remote/webelement.py\u001b[0m in \u001b[0;36mclick\u001b[0;34m(self)\u001b[0m\n\u001b[1;32m     92\u001b[0m     \u001b[0;32mdef\u001b[0m \u001b[0mclick\u001b[0m\u001b[0;34m(\u001b[0m\u001b[0mself\u001b[0m\u001b[0;34m)\u001b[0m \u001b[0;34m->\u001b[0m \u001b[0;32mNone\u001b[0m\u001b[0;34m:\u001b[0m\u001b[0;34m\u001b[0m\u001b[0;34m\u001b[0m\u001b[0m\n\u001b[1;32m     93\u001b[0m         \u001b[0;34m\"\"\"Clicks the element.\"\"\"\u001b[0m\u001b[0;34m\u001b[0m\u001b[0;34m\u001b[0m\u001b[0m\n\u001b[0;32m---> 94\u001b[0;31m         \u001b[0mself\u001b[0m\u001b[0;34m.\u001b[0m\u001b[0m_execute\u001b[0m\u001b[0;34m(\u001b[0m\u001b[0mCommand\u001b[0m\u001b[0;34m.\u001b[0m\u001b[0mCLICK_ELEMENT\u001b[0m\u001b[0;34m)\u001b[0m\u001b[0;34m\u001b[0m\u001b[0;34m\u001b[0m\u001b[0m\n\u001b[0m\u001b[1;32m     95\u001b[0m \u001b[0;34m\u001b[0m\u001b[0m\n\u001b[1;32m     96\u001b[0m     \u001b[0;32mdef\u001b[0m \u001b[0msubmit\u001b[0m\u001b[0;34m(\u001b[0m\u001b[0mself\u001b[0m\u001b[0;34m)\u001b[0m\u001b[0;34m:\u001b[0m\u001b[0;34m\u001b[0m\u001b[0;34m\u001b[0m\u001b[0m\n",
      "\u001b[0;32m~/anaconda3/lib/python3.9/site-packages/selenium/webdriver/remote/webelement.py\u001b[0m in \u001b[0;36m_execute\u001b[0;34m(self, command, params)\u001b[0m\n\u001b[1;32m    402\u001b[0m             \u001b[0mparams\u001b[0m \u001b[0;34m=\u001b[0m \u001b[0;34m{\u001b[0m\u001b[0;34m}\u001b[0m\u001b[0;34m\u001b[0m\u001b[0;34m\u001b[0m\u001b[0m\n\u001b[1;32m    403\u001b[0m         \u001b[0mparams\u001b[0m\u001b[0;34m[\u001b[0m\u001b[0;34m\"id\"\u001b[0m\u001b[0;34m]\u001b[0m \u001b[0;34m=\u001b[0m \u001b[0mself\u001b[0m\u001b[0;34m.\u001b[0m\u001b[0m_id\u001b[0m\u001b[0;34m\u001b[0m\u001b[0;34m\u001b[0m\u001b[0m\n\u001b[0;32m--> 404\u001b[0;31m         \u001b[0;32mreturn\u001b[0m \u001b[0mself\u001b[0m\u001b[0;34m.\u001b[0m\u001b[0m_parent\u001b[0m\u001b[0;34m.\u001b[0m\u001b[0mexecute\u001b[0m\u001b[0;34m(\u001b[0m\u001b[0mcommand\u001b[0m\u001b[0;34m,\u001b[0m \u001b[0mparams\u001b[0m\u001b[0;34m)\u001b[0m\u001b[0;34m\u001b[0m\u001b[0;34m\u001b[0m\u001b[0m\n\u001b[0m\u001b[1;32m    405\u001b[0m \u001b[0;34m\u001b[0m\u001b[0m\n\u001b[1;32m    406\u001b[0m     \u001b[0;32mdef\u001b[0m \u001b[0mfind_element\u001b[0m\u001b[0;34m(\u001b[0m\u001b[0mself\u001b[0m\u001b[0;34m,\u001b[0m \u001b[0mby\u001b[0m\u001b[0;34m=\u001b[0m\u001b[0mBy\u001b[0m\u001b[0;34m.\u001b[0m\u001b[0mID\u001b[0m\u001b[0;34m,\u001b[0m \u001b[0mvalue\u001b[0m\u001b[0;34m=\u001b[0m\u001b[0;32mNone\u001b[0m\u001b[0;34m)\u001b[0m \u001b[0;34m->\u001b[0m \u001b[0mWebElement\u001b[0m\u001b[0;34m:\u001b[0m\u001b[0;34m\u001b[0m\u001b[0;34m\u001b[0m\u001b[0m\n",
      "\u001b[0;32m~/anaconda3/lib/python3.9/site-packages/selenium/webdriver/remote/webdriver.py\u001b[0m in \u001b[0;36mexecute\u001b[0;34m(self, driver_command, params)\u001b[0m\n\u001b[1;32m    438\u001b[0m         \u001b[0mresponse\u001b[0m \u001b[0;34m=\u001b[0m \u001b[0mself\u001b[0m\u001b[0;34m.\u001b[0m\u001b[0mcommand_executor\u001b[0m\u001b[0;34m.\u001b[0m\u001b[0mexecute\u001b[0m\u001b[0;34m(\u001b[0m\u001b[0mdriver_command\u001b[0m\u001b[0;34m,\u001b[0m \u001b[0mparams\u001b[0m\u001b[0;34m)\u001b[0m\u001b[0;34m\u001b[0m\u001b[0;34m\u001b[0m\u001b[0m\n\u001b[1;32m    439\u001b[0m         \u001b[0;32mif\u001b[0m \u001b[0mresponse\u001b[0m\u001b[0;34m:\u001b[0m\u001b[0;34m\u001b[0m\u001b[0;34m\u001b[0m\u001b[0m\n\u001b[0;32m--> 440\u001b[0;31m             \u001b[0mself\u001b[0m\u001b[0;34m.\u001b[0m\u001b[0merror_handler\u001b[0m\u001b[0;34m.\u001b[0m\u001b[0mcheck_response\u001b[0m\u001b[0;34m(\u001b[0m\u001b[0mresponse\u001b[0m\u001b[0;34m)\u001b[0m\u001b[0;34m\u001b[0m\u001b[0;34m\u001b[0m\u001b[0m\n\u001b[0m\u001b[1;32m    441\u001b[0m             \u001b[0mresponse\u001b[0m\u001b[0;34m[\u001b[0m\u001b[0;34m\"value\"\u001b[0m\u001b[0;34m]\u001b[0m \u001b[0;34m=\u001b[0m \u001b[0mself\u001b[0m\u001b[0;34m.\u001b[0m\u001b[0m_unwrap_value\u001b[0m\u001b[0;34m(\u001b[0m\u001b[0mresponse\u001b[0m\u001b[0;34m.\u001b[0m\u001b[0mget\u001b[0m\u001b[0;34m(\u001b[0m\u001b[0;34m\"value\"\u001b[0m\u001b[0;34m,\u001b[0m \u001b[0;32mNone\u001b[0m\u001b[0;34m)\u001b[0m\u001b[0;34m)\u001b[0m\u001b[0;34m\u001b[0m\u001b[0;34m\u001b[0m\u001b[0m\n\u001b[1;32m    442\u001b[0m             \u001b[0;32mreturn\u001b[0m \u001b[0mresponse\u001b[0m\u001b[0;34m\u001b[0m\u001b[0;34m\u001b[0m\u001b[0m\n",
      "\u001b[0;32m~/anaconda3/lib/python3.9/site-packages/selenium/webdriver/remote/errorhandler.py\u001b[0m in \u001b[0;36mcheck_response\u001b[0;34m(self, response)\u001b[0m\n\u001b[1;32m    243\u001b[0m                 \u001b[0malert_text\u001b[0m \u001b[0;34m=\u001b[0m \u001b[0mvalue\u001b[0m\u001b[0;34m[\u001b[0m\u001b[0;34m\"alert\"\u001b[0m\u001b[0;34m]\u001b[0m\u001b[0;34m.\u001b[0m\u001b[0mget\u001b[0m\u001b[0;34m(\u001b[0m\u001b[0;34m\"text\"\u001b[0m\u001b[0;34m)\u001b[0m\u001b[0;34m\u001b[0m\u001b[0;34m\u001b[0m\u001b[0m\n\u001b[1;32m    244\u001b[0m             \u001b[0;32mraise\u001b[0m \u001b[0mexception_class\u001b[0m\u001b[0;34m(\u001b[0m\u001b[0mmessage\u001b[0m\u001b[0;34m,\u001b[0m \u001b[0mscreen\u001b[0m\u001b[0;34m,\u001b[0m \u001b[0mstacktrace\u001b[0m\u001b[0;34m,\u001b[0m \u001b[0malert_text\u001b[0m\u001b[0;34m)\u001b[0m  \u001b[0;31m# type: ignore[call-arg]  # mypy is not smart enough here\u001b[0m\u001b[0;34m\u001b[0m\u001b[0;34m\u001b[0m\u001b[0m\n\u001b[0;32m--> 245\u001b[0;31m         \u001b[0;32mraise\u001b[0m \u001b[0mexception_class\u001b[0m\u001b[0;34m(\u001b[0m\u001b[0mmessage\u001b[0m\u001b[0;34m,\u001b[0m \u001b[0mscreen\u001b[0m\u001b[0;34m,\u001b[0m \u001b[0mstacktrace\u001b[0m\u001b[0;34m)\u001b[0m\u001b[0;34m\u001b[0m\u001b[0;34m\u001b[0m\u001b[0m\n\u001b[0m",
      "\u001b[0;31mElementClickInterceptedException\u001b[0m: Message: element click intercepted: Element <span id=\"nextPage\" class=\"nextPageActive pull-right pointer\" type=\"button\"></span> is not clickable at point (925, 539). Other element would receive the click: <p>...</p>\n  (Session info: chrome=111.0.5563.64)\nStacktrace:\n#0 0x55db24859243 <unknown>\n#1 0x55db2461d7a6 <unknown>\n#2 0x55db2466148f <unknown>\n#3 0x55db2465f3e6 <unknown>\n#4 0x55db2465cc9e <unknown>\n#5 0x55db2465bd18 <unknown>\n#6 0x55db2464fa65 <unknown>\n#7 0x55db2467b082 <unknown>\n#8 0x55db2464f2e3 <unknown>\n#9 0x55db2467b24e <unknown>\n#10 0x55db24693932 <unknown>\n#11 0x55db2467ae53 <unknown>\n#12 0x55db2464d9ea <unknown>\n#13 0x55db2464eb2e <unknown>\n#14 0x55db248add5e <unknown>\n#15 0x55db248b1a80 <unknown>\n#16 0x55db248938b0 <unknown>\n#17 0x55db248b2b63 <unknown>\n#18 0x55db24884f75 <unknown>\n#19 0x55db248d5998 <unknown>\n#20 0x55db248d5b27 <unknown>\n#21 0x55db248f0c23 <unknown>\n#22 0x7fcceb294b43 <unknown>\n"
     ]
    }
   ],
   "source": [
    "lista_tabela_por_pagina = []\n",
    "\n",
    "elemento = driver.find_element(\"xpath\", '//*[@id=\"finderTable\"]')\n",
    "\n",
    "for pagina in range(1, numero_paginas + 1):\n",
    "    \n",
    "    html_tabela = elemento.get_attribute('outerHTML')\n",
    "    \n",
    "    tabela = pd.read_html(str(html_tabela))[0]\n",
    "    \n",
    "    lista_tabela_por_pagina.append(tabela)\n",
    "    \n",
    "    botao_avancar_pagina = driver.find_element(\"xpath\", '//*[@id=\"nextPage\"]')\n",
    "    \n",
    "    botao_avancar_pagina.click()\n",
    "    \n",
    "    \n",
    "tabela_cadastro_etfs = pd.concat(lista_tabela_por_pagina)\n",
    "\n",
    "tabela_cadastro_etfs"
   ]
  },
  {
   "cell_type": "markdown",
   "id": "47c3560e",
   "metadata": {},
   "source": [
    "# Passo 6.2: Ler a tabela de dados - Preenchendo um campo no site pra voltar as páginas"
   ]
  },
  {
   "cell_type": "code",
   "execution_count": null,
   "id": "086004bb",
   "metadata": {},
   "outputs": [],
   "source": [
    "formulario_de_voltar_pagina = driver.find_element(\"xpath\", '//*[@id=\"goToPage\"]')\n",
    "\n",
    "formulario_de_voltar_pagina.clear()\n",
    "formulario_de_voltar_pagina.send_keys(\"1\")\n",
    "formulario_de_voltar_pagina.send_keys(u'\\ue007')"
   ]
  },
  {
   "cell_type": "markdown",
   "id": "07c4487d",
   "metadata": {},
   "source": [
    "# Passo 6.3: Ler a tabela de dados - Lendo a tabela de dados de rentabilidade."
   ]
  },
  {
   "cell_type": "code",
   "execution_count": null,
   "id": "8e336174",
   "metadata": {},
   "outputs": [],
   "source": [
    "botao_mudar_pra_performance = driver.find_element(\"xpath\", '/html/body/div[5]/section/div/div[3]/section/div/div/div/div/div[2]/section[2]/div[2]/ul/li[2]/span')\n",
    "\n",
    "botao_mudar_pra_performance.click()\n",
    "\n",
    "# a partir daqui é tudo igual\n",
    "\n",
    "lista_tabela_por_pagina = []\n",
    "\n",
    "elemento = driver.find_element(\"xpath\", '//*[@id=\"finderTable\"]')\n",
    "\n",
    "for pagina in range(1, numero_paginas + 1):\n",
    "    \n",
    "    html_tabela = elemento.get_attribute('outerHTML')\n",
    "    \n",
    "    tabela = pd.read_html(str(html_tabela))[0]\n",
    "    \n",
    "    lista_tabela_por_pagina.append(tabela)\n",
    "    \n",
    "    botao_avancar_pagina = driver.find_element(\"xpath\", '//*[@id=\"nextPage\"]')\n",
    "    \n",
    "    driver.execute_script(\"arguments[0].click();\", botao_avancar_pagina)\n",
    "    \n",
    "    \n",
    "tabela_rentabilidade_etfs = pd.concat(lista_tabela_por_pagina)\n",
    "\n",
    "tabela_rentabilidade_etfs"
   ]
  },
  {
   "cell_type": "code",
   "execution_count": null,
   "id": "36116879",
   "metadata": {},
   "outputs": [],
   "source": [
    "driver.quit()"
   ]
  },
  {
   "cell_type": "code",
   "execution_count": null,
   "id": "6cc1f651",
   "metadata": {},
   "outputs": [],
   "source": [
    "tabela_cadastro_etfs"
   ]
  },
  {
   "cell_type": "code",
   "execution_count": null,
   "id": "612b0ea4",
   "metadata": {},
   "outputs": [],
   "source": [
    "tabela_rentabilidade_etfs"
   ]
  },
  {
   "cell_type": "markdown",
   "id": "bab73521",
   "metadata": {},
   "source": [
    "# Passo 7: Construindo a tabela final."
   ]
  },
  {
   "cell_type": "code",
   "execution_count": null,
   "id": "3151128a",
   "metadata": {},
   "outputs": [],
   "source": [
    "tabela_rentabilidade_etfs = tabela_rentabilidade_etfs.set_index(\"Ticker\")\n",
    "tabela_rentabilidade_etfs = tabela_rentabilidade_etfs[['1 Year', '3 Years', '5 Years']]\n",
    "tabela_cadastro_etfs = tabela_cadastro_etfs.set_index(\"Ticker\")"
   ]
  },
  {
   "cell_type": "code",
   "execution_count": null,
   "id": "ddd02ff9",
   "metadata": {
    "scrolled": true
   },
   "outputs": [],
   "source": [
    "base_de_dados_final = tabela_cadastro_etfs.join(tabela_rentabilidade_etfs, how = 'inner')\n",
    "\n",
    "base_de_dados_final"
   ]
  },
  {
   "cell_type": "code",
   "execution_count": null,
   "id": "2505873d",
   "metadata": {},
   "outputs": [],
   "source": []
  },
  {
   "cell_type": "code",
   "execution_count": null,
   "id": "7b0a0820",
   "metadata": {},
   "outputs": [],
   "source": []
  },
  {
   "cell_type": "code",
   "execution_count": null,
   "id": "6feeaad9",
   "metadata": {},
   "outputs": [],
   "source": []
  },
  {
   "cell_type": "code",
   "execution_count": null,
   "id": "d4341228",
   "metadata": {},
   "outputs": [],
   "source": []
  }
 ],
 "metadata": {
  "kernelspec": {
   "display_name": "Python 3 (ipykernel)",
   "language": "python",
   "name": "python3"
  },
  "language_info": {
   "codemirror_mode": {
    "name": "ipython",
    "version": 3
   },
   "file_extension": ".py",
   "mimetype": "text/x-python",
   "name": "python",
   "nbconvert_exporter": "python",
   "pygments_lexer": "ipython3",
   "version": "3.9.7"
  }
 },
 "nbformat": 4,
 "nbformat_minor": 5
}
